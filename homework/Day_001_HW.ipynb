{
 "cells": [
  {
   "cell_type": "markdown",
   "metadata": {},
   "source": [
    "# 作業1\n",
    "\n",
    "### 請上 Kaggle, 在 Competitions 或 Dataset 中找一組競賽或資料並寫下：\n",
    "\n",
    "**資料：https://www.kaggle.com/gregorut/videogamesales**\n",
    "\n",
    "1. **你選的這組資料為何重要**\n",
    "    \n",
    "    由於資訊科技的發展，愈來愈多人選擇娛樂的方式為玩video game。隨著遊戲產業的競爭力愈來愈高，我們更需要知道哪種遊戲類型最符合市場需求，而對此組資料進行分析可以有效的幫助。\n",
    "\n",
    "\n",
    "2. **資料從何而來 (tips: 譬如提供者是誰、以什麼方式蒐集)**\n",
    "\n",
    "    提供者為GregorySmith；使用Python抓取來自VGChartz網站 (http://www.vgchartz.com/gamedb/) 上的資料。  \n",
    "\n",
    "\n",
    "3. **蒐集而來的資料型態為何**\n",
    "\n",
    "    結構化的數值資料。\n",
    "    \n",
    "\n",
    "4. **這組資料想解決的問題如何評估**\n",
    "\n",
    "    這組資料是紀錄從1980至2016中銷售超過100,000的遊戲排行（共16,600筆）。因此若要得知何種類型遊戲最符合市場需求，可以根據不同類型的遊戲來分析大致分布的排行數，也可以分析不同遊戲平台是否跟銷售量有關。"
   ]
  },
  {
   "cell_type": "markdown",
   "metadata": {},
   "source": [
    "# 作業2：\n",
    "\n",
    "### 想像你經營一個自由載客車隊，你希望能透過數據分析以提升業績，請你思考並描述你如何規劃整體的分析/解決方案：\n",
    "\n",
    "1. **核心問題為何 (tips：如何定義 「提升業績 & 你的假設」)**\n",
    "    \n",
    "    我認為業績代表淨利潤並可以粗略計算為：$業績(淨利潤) = 車費收入-油費成本$。\n",
    "    \n",
    "    其中，針對車費收入和油費成本可以視為以下計算方式：\n",
    "    $$\n",
    "    \\begin{align}\n",
    "    車費收入 = 乘載次數\\times平均每趟車資 \\\\\n",
    "    油費成本 = 乘載次數\\times平均每趟油費+抵達接客點所花的油費\n",
    "    \\end{align}\n",
    "    $$   \n",
    "    \n",
    "    假設車資是根據油費做變化使每趟車資與油費成正比，而為了提升業績則需提高乘載次數和降低抵達接客點所花的油費，所以要減少空等客人或空車行駛的狀態。\n",
    "\n",
    "\n",
    "2. **資料從何而來 (tips：哪些資料可能會對你想問的問題產生影響 & 資料如何蒐集)**\n",
    "\n",
    "    資料來自車隊內每輛車的乘載紀錄，其需含有起終點、時間、日期、車資、車型、乘客數量。另外藉由日期與時間在中央氣象局調出天氣狀況。\n",
    "\n",
    "\n",
    "3. **蒐集而來的資料型態為何**\n",
    "\n",
    "    結構化的數值資料。\n",
    "\n",
    "\n",
    "4. **你要回答的問題，其如何評估 (tips：你的假設如何驗證)**\n",
    "\n",
    "    根據資料可以分析：在不同的時間、日期和天氣決定出車地點和數量，達到最大收益業績。\n",
    "    \n",
    "    驗證方式為調閱業績的成長指數是否有提升。"
   ]
  },
  {
   "cell_type": "markdown",
   "metadata": {},
   "source": [
    "## 練習時間\n",
    "#### 請寫一個函式用來計算 Mean Square Error\n",
    "$ MSE = \\frac{1}{n}\\sum_{i=1}^{n}{(Y_i - \\hat{Y}_i)^2} $\n",
    "\n",
    "### Hint: [如何取平方](https://googoodesign.gitbooks.io/-ezpython/unit-1.html)\n"
   ]
  },
  {
   "cell_type": "code",
   "execution_count": 2,
   "metadata": {},
   "outputs": [],
   "source": [
    "import numpy as np\n",
    "import matplotlib.pyplot as plt"
   ]
  },
  {
   "cell_type": "code",
   "execution_count": 3,
   "metadata": {},
   "outputs": [],
   "source": [
    "def mean_squared_error(y, yp):\n",
    "    mse = sum((y - yp) ** 2) / len(y)\n",
    "    return mse"
   ]
  },
  {
   "cell_type": "code",
   "execution_count": 4,
   "metadata": {},
   "outputs": [],
   "source": [
    "def mean_absolute_error(y, yp):\n",
    "    \"\"\"\n",
    "    計算 MAE\n",
    "    Args:\n",
    "        - y: 實際值\n",
    "        - yp: 預測值\n",
    "    Return:\n",
    "        - mae: MAE\n",
    "    \"\"\"\n",
    "    mae = MAE = sum(abs(y - yp)) / len(y)\n",
    "    return mae"
   ]
  },
  {
   "cell_type": "code",
   "execution_count": 5,
   "metadata": {},
   "outputs": [
    {
     "data": {
      "image/png": "[encoded data removed]",
      "text/plain": [
       "<Figure size 432x288 with 1 Axes>"
      ]
     },
     "metadata": {
      "needs_background": "light"
     },
     "output_type": "display_data"
    }
   ],
   "source": [
    "w = 3\n",
    "b = 0.5\n",
    "\n",
    "x_lin = np.linspace(0, 100, 101)\n",
    "\n",
    "y = (x_lin + np.random.randn(101) * 5) * w + b\n",
    "\n",
    "plt.plot(x_lin, y, 'b.', label = 'data points')\n",
    "plt.title(\"Assume we have data points\")\n",
    "plt.legend(loc = 2)\n",
    "plt.show()"
   ]
  },
  {
   "cell_type": "code",
   "execution_count": 6,
   "metadata": {},
   "outputs": [
    {
     "data": {
      "image/png": "[encoded data removed]",
      "text/plain": [
       "<Figure size 432x288 with 1 Axes>"
      ]
     },
     "metadata": {
      "needs_background": "light"
     },
     "output_type": "display_data"
    }
   ],
   "source": [
    "y_hat = x_lin * w + b\n",
    "plt.plot(x_lin, y, 'b.', label = 'data')\n",
    "plt.plot(x_lin, y_hat, 'r-', label = 'prediction')\n",
    "plt.title(\"Assume we have data points (And the prediction)\")\n",
    "plt.legend(loc = 2)\n",
    "plt.show()"
   ]
  },
  {
   "cell_type": "code",
   "execution_count": 7,
   "metadata": {},
   "outputs": [
    {
     "name": "stdout",
     "output_type": "stream",
     "text": [
      "The Mean squared error is 195.850\n",
      "The Mean absolute error is 10.772\n"
     ]
    }
   ],
   "source": [
    "# 執行 Function, 確認有沒有正常執行\n",
    "MSE = mean_squared_error(y, y_hat)\n",
    "MAE = mean_absolute_error(y, y_hat)\n",
    "print(\"The Mean squared error is %.3f\" % (MSE))\n",
    "print(\"The Mean absolute error is %.3f\" % (MAE))"
   ]
  },
  {
   "cell_type": "code",
   "execution_count": null,
   "metadata": {},
   "outputs": [],
   "source": []
  }
 ],
 "metadata": {
  "kernelspec": {
   "display_name": "Python 3",
   "language": "python",
   "name": "python3"
  },
  "language_info": {
   "codemirror_mode": {
    "name": "ipython",
    "version": 3
   },
   "file_extension": ".py",
   "mimetype": "text/x-python",
   "name": "python",
   "nbconvert_exporter": "python",
   "pygments_lexer": "ipython3",
   "version": "3.7.3"
  }
 },
 "nbformat": 4,
 "nbformat_minor": 2
}
